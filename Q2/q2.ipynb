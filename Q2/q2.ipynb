{
 "cells": [
  {
   "cell_type": "markdown",
   "metadata": {},
   "source": [
    "# To calculate bits per symbol for q2 part b"
   ]
  },
  {
   "cell_type": "code",
   "execution_count": 1,
   "metadata": {},
   "outputs": [],
   "source": [
    "lzw_file_path = 'lzw_message.txt'\n",
    "with open(lzw_file_path) as f:\n",
    "    binary_message = f.read()\n",
    "\n",
    "ascii_file_path = 'ascii_message.txt'\n",
    "with open(ascii_file_path) as f:\n",
    "    message = f.read()"
   ]
  },
  {
   "cell_type": "code",
   "execution_count": 4,
   "metadata": {},
   "outputs": [
    {
     "name": "stdout",
     "output_type": "stream",
     "text": [
      "990\n",
      "4935\n",
      "4.984848484848484\n"
     ]
    }
   ],
   "source": [
    "print(len(message))\n",
    "print(len(binary_message))\n",
    "print(len(binary_message)/len(message))"
   ]
  }
 ],
 "metadata": {
  "kernelspec": {
   "display_name": "Python 3",
   "language": "python",
   "name": "python3"
  },
  "language_info": {
   "codemirror_mode": {
    "name": "ipython",
    "version": 3
   },
   "file_extension": ".py",
   "mimetype": "text/x-python",
   "name": "python",
   "nbconvert_exporter": "python",
   "pygments_lexer": "ipython3",
   "version": "3.9.7"
  },
  "orig_nbformat": 4
 },
 "nbformat": 4,
 "nbformat_minor": 2
}
