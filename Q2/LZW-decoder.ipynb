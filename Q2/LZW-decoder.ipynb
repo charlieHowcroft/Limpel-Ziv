{
 "cells": [
  {
   "cell_type": "markdown",
   "metadata": {},
   "source": [
    "# Limpel-Ziv-Welch Decoder\n",
    "This python note book contains code to decode a binary LZW encoded message into ASCII characters, the initial dictionary used can be found [here](https://theasciicode.com.ar/)"
   ]
  },
  {
   "cell_type": "code",
   "execution_count": 31,
   "metadata": {},
   "outputs": [],
   "source": [
    "import copy\n",
    "import pandas as pd"
   ]
  },
  {
   "cell_type": "markdown",
   "metadata": {},
   "source": [
    "## Dictionary Creation"
   ]
  },
  {
   "cell_type": "code",
   "execution_count": 32,
   "metadata": {},
   "outputs": [
    {
     "name": "stdout",
     "output_type": "stream",
     "text": [
      "    symbol                                        Description   Binary\n",
      "0     NULL                                   (Null character)  0000000\n",
      "1      SOH                                  (Start of Header)  0000001\n",
      "2      STX                                    (Start of Text)  0000010\n",
      "3      ETX                                      (End of Text)  0000011\n",
      "4      EOT                              (End of Transmission)  0000100\n",
      "..     ...                                                ...      ...\n",
      "123      {                         (curly brackets or braces)  1111011\n",
      "124      |  (vertical-bar, vbar, vertical line or vertical...  1111100\n",
      "125      }                         (curly brackets or braces)  1111101\n",
      "126      ~                               (Tilde ; swung dash)  1111110\n",
      "127    DEL                                           (Delete)  1111111\n",
      "\n",
      "[128 rows x 3 columns]\n"
     ]
    }
   ],
   "source": [
    "def front_fill_zeros(binary_number, desired_length):\n",
    "    difference = desired_length - len(binary_number)\n",
    "    # print(f\"Difference {difference}\")\n",
    "    if difference == 0: return binary_number\n",
    "\n",
    "    zeros = difference * '0'\n",
    "    return zeros + binary_number\n",
    "\n",
    "df = pd.read_csv('ascii-table.csv')\n",
    "df = df.drop(columns=['Number'])\n",
    "\n",
    "binary_numbers = []\n",
    "for i in range(128):\n",
    "    entry = bin(i)[2:]\n",
    "    binary_numbers.append(entry)\n",
    "\n",
    "max_length = max(len(number) for number in binary_numbers)\n",
    "binary_numbers_new = [front_fill_zeros(i, max_length) for i in binary_numbers]\n",
    "df['Binary'] = binary_numbers_new\n",
    "df.at[0, 'symbol'] = 'NULL'\n",
    "\n",
    "print(df)"
   ]
  },
  {
   "cell_type": "markdown",
   "metadata": {},
   "source": [
    "## Decoding fucntions"
   ]
  },
  {
   "cell_type": "code",
   "execution_count": 33,
   "metadata": {},
   "outputs": [],
   "source": [
    "def get_symbol_length(dictionary: pd.DataFrame) -> int:\n",
    "    return len(dictionary['Binary'].iloc[0])\n",
    "\n",
    "\n",
    "def get_symbol(binary_code: str, dictionary:pd.DataFrame) -> str:\n",
    "    row = dictionary.loc[dictionary['Binary'] == binary_code]\n",
    "    return row['symbol'].values[0]\n",
    "\n",
    "\n",
    "def update_num_bits(dictionary: pd.DataFrame) -> bool:\n",
    "    last_entry = dictionary['Binary'].iloc[-1]\n",
    "    # print(f\"Last entry {last_entry}\")\n",
    "    if '0' in last_entry:\n",
    "        return False\n",
    "    return True\n",
    "\n",
    "\n",
    "def add_to_dictionary(entry: str, dictionary: pd.DataFrame) -> pd.DataFrame:\n",
    "    binary_num = bin(dictionary.shape[0])[2:] # [2:] to remove the '0b' from the start of the binary number\n",
    "    previous_binary_num = dictionary['Binary'].iloc[-1]\n",
    "\n",
    "    # print(f\"New binary number {dictionary.shape[0]}\")\n",
    "\n",
    "    if len(binary_num) != len(previous_binary_num):\n",
    "        # print(f\"Transitioning from {len(previous_binary_num)} bits to {len(binary_num)} bits\")\n",
    "        dictionary = back_fill_zeros_dictionary(dictionary)\n",
    "\n",
    "    new_row = pd.Series([entry, \"-\", binary_num], index=dictionary.columns)\n",
    "    dictionary = dictionary.append(new_row, ignore_index=True) # type: ignore\n",
    "    return dictionary\n",
    "\n",
    "\n",
    "def back_fill_zeros_dictionary(dictionary: pd.DataFrame) -> pd.DataFrame:\n",
    "    binaries = dictionary['Binary'].values\n",
    "    new_length = len(binaries[0]) + 1\n",
    "    # print(f\"new length {new_length}\")\n",
    "    new_binaries = [front_fill_zeros(i, new_length) for i in binaries]\n",
    "    dictionary['Binary'] = new_binaries\n",
    "    # print(dictionary)\n",
    "    return dictionary\n",
    "\n",
    "def update_last_entry(symbol: str, dictionary: pd.DataFrame) -> pd.DataFrame:\n",
    "    last_entry_symbol = dictionary['symbol'].iloc[-2]\n",
    "    dictionary.at[dictionary.shape[0] - 1, 'symbol'] = last_entry_symbol + symbol\n",
    "    return dictionary\n",
    "\n",
    "\n",
    "def decode(binary_message: str, dictionary: pd.DataFrame) -> str:\n",
    "    binary_message_copy = copy.copy(binary_message)\n",
    "\n",
    "    ascii_message = \"\"\n",
    "    first = True\n",
    "    while binary_message_copy != \"\":\n",
    "\n",
    "        symbol_length = get_symbol_length(dictionary)\n",
    "        # print(f\"Symbol length: {symbol_length}\")\n",
    "        symbol_code = binary_message_copy[:symbol_length]\n",
    "        binary_message_copy = binary_message_copy.replace(symbol_code, \"\", 1)\n",
    "\n",
    "        symbol = get_symbol(symbol_code, dictionary)\n",
    "        # print(f\"Symbol from dictionary: {symbol}\")\n",
    "        ascii_message = ascii_message + symbol\n",
    "\n",
    "\n",
    "        if update_num_bits(dictionary):\n",
    "            # print(\"Updating bits in dictionary\")\n",
    "            dictionary = back_fill_zeros_dictionary(dictionary)\n",
    "\n",
    "        if not first:\n",
    "            # print(f\"updating dictionary\")\n",
    "            # print(dictionary)\n",
    "            dictionary = update_last_entry(symbol, dictionary)\n",
    "            # print(dictionary)\n",
    "        \n",
    "        dictionary = add_to_dictionary(symbol, dictionary)\n",
    "\n",
    "        first = False\n",
    "\n",
    "    return ascii_message\n"
   ]
  },
  {
   "cell_type": "markdown",
   "metadata": {},
   "source": [
    "## Decoding usage"
   ]
  },
  {
   "cell_type": "code",
   "execution_count": 34,
   "metadata": {},
   "outputs": [
    {
     "name": "stdout",
     "output_type": "stream",
     "text": [
      "Message DELabNULLdDELabbcETX\n"
     ]
    },
    {
     "name": "stderr",
     "output_type": "stream",
     "text": [
      "C:\\Users\\chuck\\AppData\\Local\\Temp\\ipykernel_17268\\2801645831.py:29: FutureWarning: The frame.append method is deprecated and will be removed from pandas in a future version. Use pandas.concat instead.\n",
      "  dictionary = dictionary.append(new_row, ignore_index=True) # type: ignore\n",
      "C:\\Users\\chuck\\AppData\\Local\\Temp\\ipykernel_17268\\2801645831.py:29: FutureWarning: The frame.append method is deprecated and will be removed from pandas in a future version. Use pandas.concat instead.\n",
      "  dictionary = dictionary.append(new_row, ignore_index=True) # type: ignore\n",
      "C:\\Users\\chuck\\AppData\\Local\\Temp\\ipykernel_17268\\2801645831.py:29: FutureWarning: The frame.append method is deprecated and will be removed from pandas in a future version. Use pandas.concat instead.\n",
      "  dictionary = dictionary.append(new_row, ignore_index=True) # type: ignore\n",
      "C:\\Users\\chuck\\AppData\\Local\\Temp\\ipykernel_17268\\2801645831.py:29: FutureWarning: The frame.append method is deprecated and will be removed from pandas in a future version. Use pandas.concat instead.\n",
      "  dictionary = dictionary.append(new_row, ignore_index=True) # type: ignore\n",
      "C:\\Users\\chuck\\AppData\\Local\\Temp\\ipykernel_17268\\2801645831.py:29: FutureWarning: The frame.append method is deprecated and will be removed from pandas in a future version. Use pandas.concat instead.\n",
      "  dictionary = dictionary.append(new_row, ignore_index=True) # type: ignore\n",
      "C:\\Users\\chuck\\AppData\\Local\\Temp\\ipykernel_17268\\2801645831.py:29: FutureWarning: The frame.append method is deprecated and will be removed from pandas in a future version. Use pandas.concat instead.\n",
      "  dictionary = dictionary.append(new_row, ignore_index=True) # type: ignore\n",
      "C:\\Users\\chuck\\AppData\\Local\\Temp\\ipykernel_17268\\2801645831.py:29: FutureWarning: The frame.append method is deprecated and will be removed from pandas in a future version. Use pandas.concat instead.\n",
      "  dictionary = dictionary.append(new_row, ignore_index=True) # type: ignore\n",
      "C:\\Users\\chuck\\AppData\\Local\\Temp\\ipykernel_17268\\2801645831.py:29: FutureWarning: The frame.append method is deprecated and will be removed from pandas in a future version. Use pandas.concat instead.\n",
      "  dictionary = dictionary.append(new_row, ignore_index=True) # type: ignore\n",
      "C:\\Users\\chuck\\AppData\\Local\\Temp\\ipykernel_17268\\2801645831.py:29: FutureWarning: The frame.append method is deprecated and will be removed from pandas in a future version. Use pandas.concat instead.\n",
      "  dictionary = dictionary.append(new_row, ignore_index=True) # type: ignore\n"
     ]
    }
   ],
   "source": [
    "\n",
    "binary_message = '11111110110000101100010000000000110010010000001011000100110001100000011'\n",
    "message = decode(binary_message, df)\n",
    "print(f\"Message {message}\")"
   ]
  }
 ],
 "metadata": {
  "kernelspec": {
   "display_name": "Python 3",
   "language": "python",
   "name": "python3"
  },
  "language_info": {
   "codemirror_mode": {
    "name": "ipython",
    "version": 3
   },
   "file_extension": ".py",
   "mimetype": "text/x-python",
   "name": "python",
   "nbconvert_exporter": "python",
   "pygments_lexer": "ipython3",
   "version": "3.9.7"
  },
  "orig_nbformat": 4
 },
 "nbformat": 4,
 "nbformat_minor": 2
}
