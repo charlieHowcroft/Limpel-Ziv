{
 "cells": [
  {
   "cell_type": "markdown",
   "metadata": {},
   "source": [
    "# Limpel-Ziv-Welch Encoder\n",
    "This python note book contains code to encode an ASCII mesage into LZW binary code using the basic ASCII table found [here](https://theasciicode.com.ar/)"
   ]
  },
  {
   "cell_type": "code",
   "execution_count": 1,
   "metadata": {},
   "outputs": [],
   "source": [
    "import pandas as pd\n",
    "import copy"
   ]
  },
  {
   "attachments": {},
   "cell_type": "markdown",
   "metadata": {},
   "source": [
    "## Create the dictionary"
   ]
  },
  {
   "cell_type": "code",
   "execution_count": 2,
   "metadata": {},
   "outputs": [
    {
     "name": "stdout",
     "output_type": "stream",
     "text": [
      "    symbol                                        Description\n",
      "0      NaN                                   (Null character)\n",
      "1      SOH                                  (Start of Header)\n",
      "2      STX                                    (Start of Text)\n",
      "3      ETX                                      (End of Text)\n",
      "4      EOT                              (End of Transmission)\n",
      "..     ...                                                ...\n",
      "123      {                         (curly brackets or braces)\n",
      "124      |  (vertical-bar, vbar, vertical line or vertical...\n",
      "125      }                         (curly brackets or braces)\n",
      "126      ~                               (Tilde ; swung dash)\n",
      "127    DEL                                           (Delete)\n",
      "\n",
      "[128 rows x 2 columns]\n"
     ]
    }
   ],
   "source": [
    "dictionary = pd.DataFrame(columns=['Hex', 'Char'])\n",
    "df = pd.read_csv('ascii-table.csv')\n",
    "df = df.drop(columns=['Number'])\n",
    "print(df)"
   ]
  },
  {
   "attachments": {},
   "cell_type": "markdown",
   "metadata": {},
   "source": [
    "Create binary numbers"
   ]
  },
  {
   "cell_type": "code",
   "execution_count": 3,
   "metadata": {},
   "outputs": [
    {
     "name": "stdout",
     "output_type": "stream",
     "text": [
      "['0', '1', '10', '11', '100', '101', '110', '111', '1000', '1001', '1010', '1011', '1100', '1101', '1110', '1111', '10000', '10001', '10010', '10011', '10100', '10101', '10110', '10111', '11000', '11001', '11010', '11011', '11100', '11101', '11110', '11111', '100000', '100001', '100010', '100011', '100100', '100101', '100110', '100111', '101000', '101001', '101010', '101011', '101100', '101101', '101110', '101111', '110000', '110001', '110010', '110011', '110100', '110101', '110110', '110111', '111000', '111001', '111010', '111011', '111100', '111101', '111110', '111111', '1000000', '1000001', '1000010', '1000011', '1000100', '1000101', '1000110', '1000111', '1001000', '1001001', '1001010', '1001011', '1001100', '1001101', '1001110', '1001111', '1010000', '1010001', '1010010', '1010011', '1010100', '1010101', '1010110', '1010111', '1011000', '1011001', '1011010', '1011011', '1011100', '1011101', '1011110', '1011111', '1100000', '1100001', '1100010', '1100011', '1100100', '1100101', '1100110', '1100111', '1101000', '1101001', '1101010', '1101011', '1101100', '1101101', '1101110', '1101111', '1110000', '1110001', '1110010', '1110011', '1110100', '1110101', '1110110', '1110111', '1111000', '1111001', '1111010', '1111011', '1111100', '1111101', '1111110', '1111111']\n"
     ]
    }
   ],
   "source": [
    "binary_numbers = []\n",
    "for i in range(128):\n",
    "    entry = bin(i)[2:]\n",
    "    binary_numbers.append(entry)\n",
    "\n",
    "print(binary_numbers)"
   ]
  },
  {
   "cell_type": "markdown",
   "metadata": {},
   "source": [
    "Front fill zeros and add them to the dictionary"
   ]
  },
  {
   "cell_type": "code",
   "execution_count": 4,
   "metadata": {},
   "outputs": [],
   "source": [
    "def front_fill_zeros(binary_number, desired_length):\n",
    "    difference = desired_length - len(binary_number)\n",
    "    if difference == 0: return binary_number\n",
    "\n",
    "    zeros = difference * '0'\n",
    "    return zeros + binary_number"
   ]
  },
  {
   "cell_type": "code",
   "execution_count": 5,
   "metadata": {},
   "outputs": [
    {
     "name": "stdout",
     "output_type": "stream",
     "text": [
      "    symbol                                        Description   Binary\n",
      "0     NULL                                   (Null character)  0000000\n",
      "1      SOH                                  (Start of Header)  0000001\n",
      "2      STX                                    (Start of Text)  0000010\n",
      "3      ETX                                      (End of Text)  0000011\n",
      "4      EOT                              (End of Transmission)  0000100\n",
      "..     ...                                                ...      ...\n",
      "123      {                         (curly brackets or braces)  1111011\n",
      "124      |  (vertical-bar, vbar, vertical line or vertical...  1111100\n",
      "125      }                         (curly brackets or braces)  1111101\n",
      "126      ~                               (Tilde ; swung dash)  1111110\n",
      "127    DEL                                           (Delete)  1111111\n",
      "\n",
      "[128 rows x 3 columns]\n"
     ]
    }
   ],
   "source": [
    "max_length = max(len(number) for number in binary_numbers)\n",
    "binary_numbers_new = [front_fill_zeros(i, max_length) for i in binary_numbers]\n",
    "df['Binary'] = binary_numbers_new\n",
    "df.at[0, 'symbol'] = 'NULL'\n",
    "print(df)"
   ]
  },
  {
   "attachments": {},
   "cell_type": "markdown",
   "metadata": {},
   "source": [
    "## Encoding Functions"
   ]
  },
  {
   "cell_type": "code",
   "execution_count": 6,
   "metadata": {},
   "outputs": [],
   "source": [
    "ORIGINAL_DICTIONARY_LENGTH = 128\n",
    "\n",
    "def dictionary_hit(symbol: str, dictionary: pd.DataFrame) -> bool:\n",
    "    \"\"\"Checks if 'entry' is in the 'symbol' column for the dictionary. \n",
    "    \n",
    "    **WARNING** flags yes if the the string entry is only a part of a different symbol\n",
    "\n",
    "    eg: DE will be flagged as a hit as it is part of DEL\n",
    "\n",
    "    Parameters\n",
    "    ----------\n",
    "    symbol : str\n",
    "        A symbol that may or maynot be in the dictionary\n",
    "    dictionary : pd.DataFrame\n",
    "        The dictionary of ASCII symbols\n",
    "\n",
    "    Returns\n",
    "    -------\n",
    "    bool\n",
    "        True if the symbol is within the dictionary\n",
    "    \"\"\"\n",
    "    return True in dictionary['symbol'].str.contains(symbol, case=False, regex=True).values\n",
    "\n",
    "\n",
    "def add_to_dictionary(entry: str, dictionary: pd.DataFrame) -> pd.DataFrame:\n",
    "    \"\"\"Adds a new symbol (entry) to the ASCII dictionary\n",
    "\n",
    "    Parameters\n",
    "    ----------\n",
    "    entry : str\n",
    "        The new symbol being added to the dictionary\n",
    "    dictionary : pd.DataFrame\n",
    "        The old dictionary\n",
    "\n",
    "    Returns\n",
    "    -------\n",
    "    pd.DataFrame\n",
    "        The updated dictionary with the new entry at the bottom\n",
    "    \"\"\"\n",
    "    binary_num = bin(dictionary.shape[0])[2:] # [2:] to remove the '0b' from the start of the binary number\n",
    "    previous_binary_num = dictionary['Binary'].iloc[-1]\n",
    "\n",
    "    if len(binary_num) != len(previous_binary_num):\n",
    "        print(f\"Transitioning from {len(previous_binary_num)} bits to {len(binary_num)} bits\")\n",
    "        dictionary = back_fill_zeros_dictionary(dictionary)\n",
    "\n",
    "    new_row = pd.Series([entry, \"-\", binary_num], index=dictionary.columns)\n",
    "    dictionary = dictionary.append(new_row, ignore_index=True) # type: ignore\n",
    "    return dictionary\n",
    "\n",
    "\n",
    "def back_fill_zeros_dictionary(dictionary: pd.DataFrame) -> pd.DataFrame:\n",
    "    \"\"\"Adds zeros to the the front of the previous binary numbers in a dataframe, used to transition from n -> n+1 bits per symbol\n",
    "\n",
    "    Parameters\n",
    "    ----------\n",
    "    dictionary : pd.DataFrame\n",
    "        The dictionary of ASCII symbols\n",
    "\n",
    "    Returns\n",
    "    -------\n",
    "    pd.DataFrame\n",
    "        Updated dictionary of ASCII symbols\n",
    "    \"\"\"\n",
    "    binaries = dictionary['Binary'].values\n",
    "    new_length = len(binaries[0]) + 1\n",
    "    new_binaries = [front_fill_zeros(i, new_length) for i in binaries]\n",
    "    dictionary['Binary'] = new_binaries\n",
    "    return dictionary\n",
    "\n",
    "def get_next_char(message: str, dictionary: pd.DataFrame) -> str:\n",
    "    \"\"\"Returns the ASCII symbol at the start of the message\n",
    "\n",
    "    Parameters\n",
    "    ----------\n",
    "    message : str\n",
    "        Remaining ASCII message being encoded\n",
    "    dictionary : pd.DataFrame\n",
    "        The dictionary of ASCII symbols\n",
    "\n",
    "    Returns\n",
    "    -------\n",
    "    str\n",
    "        The ASCII symbol at the start of the message\n",
    "    \"\"\"\n",
    "    original_dictionary = dictionary[:ORIGINAL_DICTIONARY_LENGTH]\n",
    "    return get_largest_string(message, original_dictionary)\n",
    "\n",
    "def get_largest_string(message: str, dictionary: pd.DataFrame) -> str:\n",
    "    \"\"\"Scans the message from the first character in the message for largest sequence present in the dictionary\n",
    "\n",
    "    Parameters\n",
    "    ----------\n",
    "    message : str\n",
    "        Remaining ASCII message being encoded\n",
    "    dictionary : pd.DataFrame\n",
    "        The dictionary of ASCII symbols\n",
    "\n",
    "    Returns\n",
    "    -------\n",
    "    str\n",
    "        The largest sequence in the dictionary\n",
    "    \"\"\"\n",
    "\n",
    "    i = 1\n",
    "    while dictionary_hit(message[:i], df) and i <= len(message):\n",
    "        i = i + 1\n",
    "    i = i - 1\n",
    "\n",
    "    # Check that the symbol is in the dictionary, fixes message DE being flagged as DEL\n",
    "    while not message[:i] in dictionary['symbol'].values:\n",
    "        i = i - 1\n",
    "\n",
    "    return message[:i]\n",
    "\n",
    "\n",
    "def get_binary(sequence: str, dictionary: pd.DataFrame) -> str:\n",
    "    \"\"\"Returns the binary string for a symbol in the dictionary\n",
    "\n",
    "    Parameters\n",
    "    ----------\n",
    "    sequence : str\n",
    "        The symbol within the dictionary\n",
    "    dictionary : pd.DataFrame\n",
    "        The ASCII dictionary\n",
    "\n",
    "    Returns\n",
    "    -------\n",
    "    str\n",
    "        The binary string with in the dictionary\n",
    "    \"\"\"\n",
    "    row = df.loc[dictionary['symbol'] == sequence]\n",
    "    return row['Binary'].values[0]\n",
    "\n",
    "def encode(message: str, dictionary: pd.DataFrame) -> str:\n",
    "    \"\"\"The main function to encode a message into binary LZW code\n",
    "\n",
    "    Parameters\n",
    "    ----------\n",
    "    message : str\n",
    "        The raw ASCII message being encoded\n",
    "    dictionary : pd.DataFrame\n",
    "        The dictionary of ASCII symbols\n",
    "    \"\"\"\n",
    "    message_copy = copy.copy(message)\n",
    "\n",
    "    binary_message = \"\"\n",
    "\n",
    "    while message_copy != \"\":\n",
    "        print(f\"Remaing message: {message_copy}\")\n",
    "        current_seq = get_largest_string(message_copy, dictionary)\n",
    "        print(f\"Largest Sequence: {current_seq}\")\n",
    "        output_bits = get_binary(current_seq, dictionary)\n",
    "        print(f\"Output bits: {output_bits}\")\n",
    "        binary_message = binary_message + output_bits\n",
    "        message_copy = message_copy.replace(current_seq, \"\", 1)\n",
    "        \n",
    "        if message_copy == \"\":\n",
    "            break\n",
    "\n",
    "        next_char = get_next_char(message_copy, dictionary)\n",
    "        print(f\"Next character in the message: {next_char}\")\n",
    "\n",
    "        dictionary_addition = current_seq + next_char\n",
    "        print(f\"Adding {dictionary_addition} to dictionary\")\n",
    "        df = add_to_dictionary(dictionary_addition, dictionary)\n",
    "    \n",
    "    return binary_message"
   ]
  },
  {
   "cell_type": "markdown",
   "metadata": {},
   "source": [
    "## Usage"
   ]
  },
  {
   "cell_type": "code",
   "execution_count": 8,
   "metadata": {},
   "outputs": [
    {
     "name": "stdout",
     "output_type": "stream",
     "text": [
      "Remaing message: DELabNULLdabbcETX\n",
      "Largest Sequence: DEL\n",
      "Output bits: 1111111\n",
      "Next character in the message: a\n",
      "Adding DELa to dictionary\n",
      "Transitioning from 7 bits to 8 bits\n",
      "Remaing message: abNULLdabbcETX\n",
      "Largest Sequence: a\n",
      "Output bits: 01100001\n",
      "Next character in the message: b\n",
      "Adding ab to dictionary\n",
      "Remaing message: bNULLdabbcETX\n",
      "Largest Sequence: b\n",
      "Output bits: 01100010\n",
      "Next character in the message: NULL\n",
      "Adding bNULL to dictionary\n",
      "Remaing message: NULLdabbcETX\n",
      "Largest Sequence: NULL\n",
      "Output bits: 00000000\n",
      "Next character in the message: d\n",
      "Adding NULLd to dictionary\n",
      "Remaing message: dabbcETX\n",
      "Largest Sequence: d\n",
      "Output bits: 01100100\n",
      "Next character in the message: a\n",
      "Adding da to dictionary\n",
      "Remaing message: abbcETX\n",
      "Largest Sequence: ab\n",
      "Output bits: 10000001\n",
      "Next character in the message: b\n",
      "Adding abb to dictionary\n",
      "Remaing message: bcETX\n",
      "Largest Sequence: b\n",
      "Output bits: 01100010\n",
      "Next character in the message: c\n",
      "Adding bc to dictionary\n",
      "Remaing message: cETX\n",
      "Largest Sequence: c\n",
      "Output bits: 01100011\n",
      "Next character in the message: ETX\n",
      "Adding cETX to dictionary\n",
      "Remaing message: ETX\n",
      "Largest Sequence: ETX\n",
      "Output bits: 00000011\n",
      "\n",
      "Final message: 11111110110000101100010000000000110010010000001011000100110001100000011\n"
     ]
    },
    {
     "name": "stderr",
     "output_type": "stream",
     "text": [
      "C:\\Users\\chuck\\AppData\\Local\\Temp\\ipykernel_17284\\1621207006.py:17: FutureWarning: The frame.append method is deprecated and will be removed from pandas in a future version. Use pandas.concat instead.\n",
      "  dictionary = dictionary.append(new_row, ignore_index=True)\n",
      "C:\\Users\\chuck\\AppData\\Local\\Temp\\ipykernel_17284\\1621207006.py:17: FutureWarning: The frame.append method is deprecated and will be removed from pandas in a future version. Use pandas.concat instead.\n",
      "  dictionary = dictionary.append(new_row, ignore_index=True)\n",
      "C:\\Users\\chuck\\AppData\\Local\\Temp\\ipykernel_17284\\1621207006.py:17: FutureWarning: The frame.append method is deprecated and will be removed from pandas in a future version. Use pandas.concat instead.\n",
      "  dictionary = dictionary.append(new_row, ignore_index=True)\n",
      "C:\\Users\\chuck\\AppData\\Local\\Temp\\ipykernel_17284\\1621207006.py:17: FutureWarning: The frame.append method is deprecated and will be removed from pandas in a future version. Use pandas.concat instead.\n",
      "  dictionary = dictionary.append(new_row, ignore_index=True)\n",
      "C:\\Users\\chuck\\AppData\\Local\\Temp\\ipykernel_17284\\1621207006.py:17: FutureWarning: The frame.append method is deprecated and will be removed from pandas in a future version. Use pandas.concat instead.\n",
      "  dictionary = dictionary.append(new_row, ignore_index=True)\n",
      "C:\\Users\\chuck\\AppData\\Local\\Temp\\ipykernel_17284\\1621207006.py:17: FutureWarning: The frame.append method is deprecated and will be removed from pandas in a future version. Use pandas.concat instead.\n",
      "  dictionary = dictionary.append(new_row, ignore_index=True)\n",
      "C:\\Users\\chuck\\AppData\\Local\\Temp\\ipykernel_17284\\1621207006.py:17: FutureWarning: The frame.append method is deprecated and will be removed from pandas in a future version. Use pandas.concat instead.\n",
      "  dictionary = dictionary.append(new_row, ignore_index=True)\n",
      "C:\\Users\\chuck\\AppData\\Local\\Temp\\ipykernel_17284\\1621207006.py:17: FutureWarning: The frame.append method is deprecated and will be removed from pandas in a future version. Use pandas.concat instead.\n",
      "  dictionary = dictionary.append(new_row, ignore_index=True)\n"
     ]
    }
   ],
   "source": [
    "message = 'DELabNULLdabbcETX'\n",
    "\n",
    "binary_message = encode(message, df)\n",
    "\n",
    "print(f\"\\nFinal message: {binary_message}\")"
   ]
  }
 ],
 "metadata": {
  "kernelspec": {
   "display_name": "Python 3",
   "language": "python",
   "name": "python3"
  },
  "language_info": {
   "codemirror_mode": {
    "name": "ipython",
    "version": 3
   },
   "file_extension": ".py",
   "mimetype": "text/x-python",
   "name": "python",
   "nbconvert_exporter": "python",
   "pygments_lexer": "ipython3",
   "version": "3.9.7"
  },
  "orig_nbformat": 4
 },
 "nbformat": 4,
 "nbformat_minor": 2
}
